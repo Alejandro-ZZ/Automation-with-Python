{
 "cells": [
  {
   "cell_type": "markdown",
   "id": "8cf9d9be",
   "metadata": {},
   "source": [
    "# **Regular Expressions (Regex) Examples**\n",
    "\n",
    "## General info\n",
    "1. Some documentation\n",
    "    * [re library](https://docs.python.org/3/library/re.html)\n",
    "    * [Character Classes or Character Sets](https://www.regular-expressions.info/charclass.html)\n",
    "\n",
    "\n",
    "2. Probe regular expression sentence\n",
    "    * [regex101](https://regex101.com/)\n",
    "    \n",
    "\n",
    "3. Play with regex\n",
    "    * [regexcrossword](https://regexcrossword.com/)\n",
    "    \n",
    "    \n",
    "4. More info\n",
    "    * https://docs.python.org/3/howto/regex.html\n",
    "    * https://docs.python.org/3/library/re.html\n",
    "    * https://docs.python.org/3/howto/regex.html#greedy-versus-non-greedy\n",
    "    \n",
    "## Methods used\n",
    "\n",
    "* [re.search()](#Search())\n",
    "* [re.findall()](#Findall())"
   ]
  },
  {
   "cell_type": "code",
   "execution_count": 14,
   "id": "a282d0c1",
   "metadata": {},
   "outputs": [],
   "source": [
    "import re "
   ]
  },
  {
   "cell_type": "markdown",
   "id": "95ce29ad",
   "metadata": {},
   "source": [
    "## **Search()**"
   ]
  },
  {
   "cell_type": "code",
   "execution_count": 15,
   "id": "703929c1",
   "metadata": {},
   "outputs": [
    {
     "name": "stdout",
     "output_type": "stream",
     "text": [
      "-> Input : banana\n",
      "-> Output: True\n",
      "----------------------------------------\n",
      "-> Input : pineapple\n",
      "-> Output: False\n",
      "----------------------------------------\n",
      "-> Input : pineapple\n",
      "-> Output: False\n",
      "----------------------------------------\n",
      "-> Input : Animal Kingdom\n",
      "-> Output: True\n",
      "----------------------------------------\n",
      "-> Input : A is for apple\n",
      "-> Output: True\n",
      "----------------------------------------\n"
     ]
    }
   ],
   "source": [
    "'''\n",
    "Checks if the text passed includes the letter \"a\" \n",
    "(lowercase or uppercase) at least twice.\n",
    "'''\n",
    "def repeating_letter_a(text):\n",
    "    result = re.search(r\"[aA].*[aA]+\", text)\n",
    "    return result != None\n",
    "\n",
    "# TEST <repeating_letter_a()> \n",
    "test_list = [\"banana\", \"pineapple\", \"pineapple\", \"Animal Kingdom\", \"A is for apple\"]\n",
    "\n",
    "for text in test_list:\n",
    "    print(\"-> Input :\", text)\n",
    "    print(\"-> Output:\", repeating_letter_a(text))\n",
    "    print(\"-\"*40)"
   ]
  },
  {
   "cell_type": "code",
   "execution_count": 16,
   "id": "64dc9fed",
   "metadata": {},
   "outputs": [
    {
     "name": "stdout",
     "output_type": "stream",
     "text": [
      "-> Input : One\n",
      "-> Output: False\n",
      "----------------------------------------\n",
      "-> Input : 123  Ready Set GO\n",
      "-> Output: True\n",
      "----------------------------------------\n",
      "-> Input : username user_01\n",
      "-> Output: True\n",
      "----------------------------------------\n",
      "-> Input : shopping_list: milk, bread, eggs.\n",
      "-> Output: False\n",
      "----------------------------------------\n"
     ]
    }
   ],
   "source": [
    "'''\n",
    "Check if the text passed has at least 2 groups of alphanumeric \n",
    "characters (including letters, numbers, and underscores) separated \n",
    "by one or more whitespace characters.\n",
    "'''\n",
    "def check_character_groups(text):\n",
    "    result = re.search(r\"\\w+\\s+\\w+\", text)\n",
    "    return result != None\n",
    "\n",
    "# TEST <check_character_groups()>\n",
    "test_list = [\"One\", \"123  Ready Set GO\", \"username user_01\", \"shopping_list: milk, bread, eggs.\"]\n",
    "\n",
    "for text in test_list:\n",
    "    print(\"-> Input :\", text)\n",
    "    print(\"-> Output:\", check_character_groups(text))\n",
    "    print(\"-\"*40)"
   ]
  },
  {
   "cell_type": "code",
   "execution_count": 17,
   "id": "5a8b6f73",
   "metadata": {},
   "outputs": [
    {
     "name": "stdout",
     "output_type": "stream",
     "text": [
      "-> Input : Is this is a sentence?\n",
      "-> Output: True\n",
      "----------------------------------------\n",
      "-> Input : is this is a sentence?\n",
      "-> Output: False\n",
      "----------------------------------------\n",
      "-> Input : Hello\n",
      "-> Output: False\n",
      "----------------------------------------\n",
      "-> Input : 1-2-3-GO!\n",
      "-> Output: False\n",
      "----------------------------------------\n",
      "-> Input : A star is born.\n",
      "-> Output: True\n",
      "----------------------------------------\n"
     ]
    }
   ],
   "source": [
    "'''\n",
    "Check if the text passed looks like a standard sentence, meaning \n",
    "that it starts with an uppercase letter, followed by at least some \n",
    "lowercase letters or a space, and ends with a period, question mark, \n",
    "or exclamation point. \n",
    "'''\n",
    "def check_sentence(text):\n",
    "    result = re.search(r\"^[A-Z][a-z ]+[.?!]$\", text)\n",
    "    return result != None\n",
    "\n",
    "# TEST <check_character_groups()>\n",
    "test_list = [\"Is this is a sentence?\", \"is this is a sentence?\", \"Hello\", \"1-2-3-GO!\", \"A star is born.\"]\n",
    "\n",
    "for text in test_list:\n",
    "    print(\"-> Input :\", text)\n",
    "    print(\"-> Output:\", check_sentence(text))\n",
    "    print(\"-\"*40)"
   ]
  },
  {
   "cell_type": "code",
   "execution_count": 19,
   "id": "10f4f6aa",
   "metadata": {},
   "outputs": [
    {
     "name": "stdout",
     "output_type": "stream",
     "text": [
      "-> Input : July 31 07:51:48 mycomputer bad_process[12345]: ERROR Performing package upgrade\n",
      "-> Output: 12345 (ERROR)\n",
      "----------------------------------------\n",
      "-> Input : 99 elephants in a [cage]\n",
      "-> Output: None\n",
      "----------------------------------------\n",
      "-> Input : A string that also has numbers [34567] but no uppercase message\n",
      "-> Output: None\n",
      "----------------------------------------\n",
      "-> Input : July 31 08:08:08 mycomputer new_process[67890]: RUNNING Performing backup\n",
      "-> Output: 67890 (RUNNING)\n",
      "----------------------------------------\n"
     ]
    }
   ],
   "source": [
    "'''Return the uppercase message in parenthesis, after the process id.'''\n",
    "\n",
    "def extract_pid(log_line):\n",
    "    regex = r\"\\[(\\d+)\\]: ([A-Z]+)\"\n",
    "    result = re.search(regex, log_line)\n",
    "    if result is None:\n",
    "        return None\n",
    "    return \"{} ({})\".format(result[1], result[2])\n",
    "\n",
    "# TEST <extract_pid()>\n",
    "test_list = [\"July 31 07:51:48 mycomputer bad_process[12345]: ERROR Performing package upgrade\", \n",
    "             \"99 elephants in a [cage]\", \n",
    "             \"A string that also has numbers [34567] but no uppercase message\", \n",
    "             \"July 31 08:08:08 mycomputer new_process[67890]: RUNNING Performing backup\"]\n",
    "\n",
    "for text in test_list:\n",
    "    print(\"-> Input :\", text)\n",
    "    print(\"-> Output:\", extract_pid(text))\n",
    "    print(\"-\"*40)"
   ]
  },
  {
   "cell_type": "code",
   "execution_count": 21,
   "id": "f7db8c1d",
   "metadata": {},
   "outputs": [
    {
     "name": "stdout",
     "output_type": "stream",
     "text": [
      "-> Input : gmail.com\n",
      "-> Output: True\n",
      "----------------------------------------\n",
      "-> Input : www@google\n",
      "-> Output: False\n",
      "----------------------------------------\n",
      "-> Input : www.learning.org\n",
      "-> Output: True\n",
      "----------------------------------------\n",
      "-> Input : web-address.com/homepage\n",
      "-> Output: False\n",
      "----------------------------------------\n",
      "-> Input : My_Favorite-Blog.US\n",
      "-> Output: True\n",
      "----------------------------------------\n"
     ]
    }
   ],
   "source": [
    "'''\n",
    "Checks if the text passed qualifies as a top-level web address, meaning that it contains \n",
    "alphanumeric characters (which includes letters, numbers, and underscores), as well as \n",
    "periods, dashes, and a plus sign, followed by a period and a character-only top-level \n",
    "domain such as \".com\", \".info\", \".edu\", etc.\n",
    "'''\n",
    "\n",
    "def check_web_address(text):\n",
    "    pattern = r\"^[\\w.\\-+]*\\.[a-zA-Z]*$\"\n",
    "    result = re.search(pattern, text)\n",
    "    return result != None\n",
    "\n",
    "# TEST <check_web_address()>\n",
    "test_list = [\"gmail.com\", \"www@google\", \"www.learning.org\", \"web-address.com/homepage\", \"My_Favorite-Blog.US\"]\n",
    "\n",
    "for text in test_list:\n",
    "    print(\"-> Input :\", text)\n",
    "    print(\"-> Output:\", check_web_address(text))\n",
    "    print(\"-\"*40)"
   ]
  },
  {
   "cell_type": "code",
   "execution_count": 22,
   "id": "58513e41",
   "metadata": {},
   "outputs": [
    {
     "name": "stdout",
     "output_type": "stream",
     "text": [
      "-> Input : 12:45pm\n",
      "-> Output: True\n",
      "----------------------------------------\n",
      "-> Input : 9:59 AM\n",
      "-> Output: True\n",
      "----------------------------------------\n",
      "-> Input : 6:60am\n",
      "-> Output: False\n",
      "----------------------------------------\n",
      "-> Input : five o'clock\n",
      "-> Output: False\n",
      "----------------------------------------\n"
     ]
    }
   ],
   "source": [
    "'''\n",
    "Checks for the time format of a 12-hour clock, as follows: the hour is between 1 and 12, \n",
    "with no leading zero, followed by a colon, then minutes between 00 and 59, then an optional \n",
    "space, and then AM or PM, in upper or lower case.\n",
    "'''\n",
    "def check_time(text):\n",
    "    pattern = r\"^1*[0-9]:[0-5][0-9][ ]?[aApP][mM]\"\n",
    "    result = re.search(pattern, text)\n",
    "    return result != None\n",
    "\n",
    "# TEST <check_time()>\n",
    "test_list = [\"12:45pm\", \"9:59 AM\", \"6:60am\", \"five o'clock\"]\n",
    "\n",
    "for text in test_list:\n",
    "    print(\"-> Input :\", text)\n",
    "    print(\"-> Output:\", check_time(text))\n",
    "    print(\"-\"*40)"
   ]
  },
  {
   "cell_type": "code",
   "execution_count": 26,
   "id": "17cbe08a",
   "metadata": {},
   "outputs": [
    {
     "name": "stdout",
     "output_type": "stream",
     "text": [
      "-> Input : Instant messaging (IM) is a set of communication technologies used for text-based communication\n",
      "-> Output: True\n",
      "----------------------------------------\n",
      "-> Input : American Standard Code for Information Interchange (ASCII) is a character encoding standard for electronic communication\n",
      "-> Output: True\n",
      "----------------------------------------\n",
      "-> Input : Please do NOT enter without permission!\n",
      "-> Output: False\n",
      "----------------------------------------\n",
      "-> Input : PostScript is a fourth-generation programming language (4GL)\n",
      "-> Output: True\n",
      "----------------------------------------\n",
      "-> Input : Have fun using a self-contained underwater breathing apparatus (Scuba)!\n",
      "-> Output: True\n",
      "----------------------------------------\n"
     ]
    }
   ],
   "source": [
    "'''\n",
    "Checks the text for the presence of 2 or more characters or digits surrounded by parentheses, \n",
    "with at least the first character in uppercase (if it's a letter), returning True if the \n",
    "condition is met, or False otherwise. For example: \n",
    "    \n",
    "    \"Instant messaging (IM) is a set of communication technologies used for text-based communication\" \n",
    "\n",
    "It should return True since (IM) satisfies the match conditions.\"\n",
    "'''\n",
    "def contains_acronym(text):\n",
    "    pattern = r\"\\([A-Z0-9][a-zA-Z0-9]+\\)\"\n",
    "    result = re.search(pattern, text)\n",
    "    return result != None\n",
    "\n",
    "# TEST <contains_acronym()>\n",
    "test_list = [\"Instant messaging (IM) is a set of communication technologies used for text-based communication\", \n",
    "             \"American Standard Code for Information Interchange (ASCII) is a character encoding standard for electronic communication\", \n",
    "             \"Please do NOT enter without permission!\", \n",
    "             \"PostScript is a fourth-generation programming language (4GL)\", \n",
    "             \"Have fun using a self-contained underwater breathing apparatus (Scuba)!\"]\n",
    "\n",
    "for text in test_list:\n",
    "    print(\"-> Input :\", text)\n",
    "    print(\"-> Output:\", contains_acronym(text))\n",
    "    print(\"-\"*40)"
   ]
  },
  {
   "cell_type": "code",
   "execution_count": 27,
   "id": "0d6d1d16",
   "metadata": {},
   "outputs": [
    {
     "name": "stdout",
     "output_type": "stream",
     "text": [
      "-> Input : The zip codes for New York are 10001 thru 11104.\n",
      "-> Output: True\n",
      "----------------------------------------\n",
      "-> Input : 90210 is a TV show\n",
      "-> Output: False\n",
      "----------------------------------------\n",
      "-> Input : Their address is: 123 Main Street, Anytown, AZ 85258-0001.\n",
      "-> Output: True\n",
      "----------------------------------------\n",
      "-> Input : The Parliament of Canada is at 111 Wellington St, Ottawa, ON K1A0A9.\n",
      "-> Output: False\n",
      "----------------------------------------\n"
     ]
    }
   ],
   "source": [
    "'''\n",
    "Check if the text passed includes a possible U.S. zip code, formatted as follows: exactly 5 digits, \n",
    "and sometimes, but not always, followed by a dash with 4 more digits. The zip code needs to be \n",
    "preceded by at least one space, and cannot be at the start of the text.\n",
    "'''\n",
    "\n",
    "def check_zip_code (text):\n",
    "    result = re.search(r\"[\\w\\s]+[0-9]{5}[-]?([0-9]{4})?\", text)\n",
    "    return result != None\n",
    "\n",
    "# TEST <check_zip_code()>\n",
    "test_list = [\"The zip codes for New York are 10001 thru 11104.\", \n",
    "             \"90210 is a TV show\", \n",
    "             \"Their address is: 123 Main Street, Anytown, AZ 85258-0001.\", \n",
    "             \"The Parliament of Canada is at 111 Wellington St, Ottawa, ON K1A0A9.\"]\n",
    "\n",
    "for text in test_list:\n",
    "    print(\"-> Input :\", text)\n",
    "    print(\"-> Output:\", check_zip_code(text))\n",
    "    print(\"-\"*40)"
   ]
  },
  {
   "cell_type": "code",
   "execution_count": 29,
   "id": "4c9518fd",
   "metadata": {},
   "outputs": [
    {
     "name": "stdout",
     "output_type": "stream",
     "text": [
      "-> Input : Life is beautiful\n",
      "-> Output: ['beautiful']\n",
      "----------------------------------------\n",
      "-> Input : Obviously, the queen is courageous and gracious.\n",
      "-> Output: ['Obviously', 'queen', 'courageous', 'gracious']\n",
      "----------------------------------------\n",
      "-> Input : The rambunctious children had to sit quietly and await their delicious dinner.\n",
      "-> Output: ['rambunctious', 'quietly', 'delicious']\n",
      "----------------------------------------\n",
      "-> Input : The order of a data queue is First In First Out (FIFO)\n",
      "-> Output: ['queue']\n",
      "----------------------------------------\n",
      "-> Input : Hello world!\n",
      "-> Output: []\n",
      "----------------------------------------\n"
     ]
    }
   ],
   "source": [
    "'''returns all words with 3 or more consecutive vowels (a, e, i, o, u).'''\n",
    "\n",
    "def multi_vowel_words(text):\n",
    "    pattern = \"(\\w*[aeiou]{3}\\w*)\"\n",
    "    result = re.findall(pattern, text)\n",
    "    return result\n",
    "\n",
    "# TEST <multi_vowel_words()>\n",
    "test_list = [\"Life is beautiful\", \n",
    "             \"Obviously, the queen is courageous and gracious.\", \n",
    "             \"The rambunctious children had to sit quietly and await their delicious dinner.\", \n",
    "             \"The order of a data queue is First In First Out (FIFO)\", \n",
    "             \"Hello world!\"]\n",
    "\n",
    "for text in test_list:\n",
    "    print(\"-> Input :\", text)\n",
    "    print(\"-> Output:\", multi_vowel_words(text))\n",
    "    print(\"-\"*40)"
   ]
  },
  {
   "cell_type": "markdown",
   "id": "18037f19",
   "metadata": {},
   "source": [
    "## **Findall()**"
   ]
  },
  {
   "cell_type": "code",
   "execution_count": 20,
   "id": "032c7b15",
   "metadata": {},
   "outputs": [
    {
     "name": "stdout",
     "output_type": "stream",
     "text": [
      "-> Input : I like to drink coffee in the morning.\n",
      "-> Output: ['morning']\n",
      "----------------------------------------\n",
      "-> Input : I also have a taste for hot chocolate in the afternoon.\n",
      "-> Output: ['chocolate', 'afternoon']\n",
      "----------------------------------------\n",
      "-> Input : I never drink tea late at night.\n",
      "-> Output: []\n",
      "----------------------------------------\n"
     ]
    }
   ],
   "source": [
    "'''Returns all words that are at least 7 characters.'''\n",
    "\n",
    "def long_words(text):\n",
    "    pattern = r\"\\w{7,}\"\n",
    "    result = re.findall(pattern, text)\n",
    "    return result\n",
    "\n",
    "# TEST <long_words()>\n",
    "test_list = [\"I like to drink coffee in the morning.\", \n",
    "             \"I also have a taste for hot chocolate in the afternoon.\", \n",
    "             \"I never drink tea late at night.\"]\n",
    "\n",
    "for text in test_list:\n",
    "    print(\"-> Input :\", text)\n",
    "    print(\"-> Output:\", long_words(text))\n",
    "    print(\"-\"*40)"
   ]
  },
  {
   "cell_type": "markdown",
   "id": "3ef5e78d",
   "metadata": {},
   "source": [
    "## **Sub()**"
   ]
  },
  {
   "cell_type": "code",
   "execution_count": 28,
   "id": "0f5d75a4",
   "metadata": {},
   "outputs": [
    {
     "name": "stdout",
     "output_type": "stream",
     "text": [
      "-> Input : Sabrina Green,802-867-5309,System Administrator\n",
      "-> Output: Sabrina Green,+1-802-867-5309,System Administrator\n",
      "----------------------------------------\n",
      "-> Input : Eli Jones,684-3481127,IT specialist\n",
      "-> Output: Eli Jones,+1-684-3481127,IT specialist\n",
      "----------------------------------------\n",
      "-> Input : Melody Daniels,846-687-7436,Programmer\n",
      "-> Output: Melody Daniels,+1-846-687-7436,Programmer\n",
      "----------------------------------------\n",
      "-> Input : Charlie Rivera,698-746-3357,Web Developer\n",
      "-> Output: Charlie Rivera,+1-698-746-3357,Web Developer\n",
      "----------------------------------------\n"
     ]
    }
   ],
   "source": [
    "'''\n",
    "A CSV file contains employee information. Each record has a name field, followed by a phone number \n",
    "field, and a role field. The phone number field contains U.S. phone numbers, and needs to be \n",
    "modified to the international format, with \"+1-\" in front of the phone number.\n",
    "'''\n",
    "\n",
    "def transform_record(record):\n",
    "    new_record = re.sub(r\"([0-9-]+)\", r\"+1-\\1\",record)\n",
    "    return new_record\n",
    "\n",
    "# TEST <transform_record()>\n",
    "test_list = [\"Sabrina Green,802-867-5309,System Administrator\", \n",
    "             \"Eli Jones,684-3481127,IT specialist\", \n",
    "             \"Melody Daniels,846-687-7436,Programmer\", \n",
    "             \"Charlie Rivera,698-746-3357,Web Developer\"]\n",
    "\n",
    "for text in test_list:\n",
    "    print(\"-> Input :\", text)\n",
    "    print(\"-> Output:\", transform_record(text))\n",
    "    print(\"-\"*40)"
   ]
  },
  {
   "cell_type": "code",
   "execution_count": 30,
   "id": "e5fb019a",
   "metadata": {},
   "outputs": [
    {
     "name": "stdout",
     "output_type": "stream",
     "text": [
      "-> Input : ### Start of program\n",
      "-> Output: // Start of program\n",
      "----------------------------------------\n",
      "-> Input :   number = 0   ## Initialize the variable\n",
      "-> Output:   number = 0   // Initialize the variable\n",
      "----------------------------------------\n",
      "-> Input :   number += 1   # Increment the variable\n",
      "-> Output:   number += 1   // Increment the variable\n",
      "----------------------------------------\n",
      "-> Input :   return(number)\n",
      "-> Output:   return(number)\n",
      "----------------------------------------\n"
     ]
    }
   ],
   "source": [
    "'''\n",
    "Converts comments in a Python script into those usable by a C compiler. This means looking for \n",
    "text that begins with a hash mark (#) and replacing it with double slashes (//), which is the \n",
    "C single-line comment indicator. For this exercise, let's ignore the possibility of a hash mark \n",
    "embedded inside of a Python command, and assume that it's only used to indicate a comment. Besides, \n",
    "treat repetitive hash marks (##), (###), etc., as a single comment indicator, to be replaced with \n",
    "just (//) and not (#//) or (//#).\n",
    "'''\n",
    "\n",
    "def transform_comments(line_of_code):\n",
    "    result = re.sub(r\"([#]+)\", r\"//\", line_of_code)\n",
    "    return result\n",
    "\n",
    "# TEST <transform_comments()>\n",
    "test_list = [\"### Start of program\", \n",
    "             \"  number = 0   ## Initialize the variable\", \n",
    "             \"  number += 1   # Increment the variable\", \n",
    "             \"  return(number)\"]\n",
    "\n",
    "for text in test_list:\n",
    "    print(\"-> Input :\", text)\n",
    "    print(\"-> Output:\", transform_comments(text))\n",
    "    print(\"-\"*40)"
   ]
  },
  {
   "cell_type": "code",
   "execution_count": 31,
   "id": "348e26b5",
   "metadata": {},
   "outputs": [
    {
     "name": "stdout",
     "output_type": "stream",
     "text": [
      "-> Input : My number is 212-345-9999.\n",
      "-> Output: My number is (212) 345-9999.\n",
      "----------------------------------------\n",
      "-> Input : Please call 888-555-1234\n",
      "-> Output: Please call (888) 555-1234\n",
      "----------------------------------------\n",
      "-> Input : 123-123-12345\n",
      "-> Output: 123-123-12345\n",
      "----------------------------------------\n",
      "-> Input : Phone number of Buckingham Palace is +44 303 123 7300\n",
      "-> Output: Phone number of Buckingham Palace is +44 303 123 7300\n",
      "----------------------------------------\n"
     ]
    }
   ],
   "source": [
    "'''\n",
    "Checks for a U.S. phone number format: XXX-XXX-XXXX (3 digits followed by a dash, 3 more digits \n",
    "followed by a dash, and 4 digits), and converts it to a more formal format that looks like this: \n",
    "(XXX) XXX-XXXX.\n",
    "'''\n",
    "\n",
    "def convert_phone_number(phone):\n",
    "    result = re.sub(r\"\\b([0-9]{3})-([0-9]{3})-([0-9]{4})\\b\",r\"(\\1) \\2-\\3\", phone)\n",
    "    return result\n",
    "\n",
    "# TEST <convert_phone_number()>\n",
    "test_list = [\"My number is 212-345-9999.\", \n",
    "             \"Please call 888-555-1234\", \n",
    "             \"123-123-12345\", \n",
    "             \"Phone number of Buckingham Palace is +44 303 123 7300\"]\n",
    "\n",
    "for text in test_list:\n",
    "    print(\"-> Input :\", text)\n",
    "    print(\"-> Output:\", convert_phone_number(text))\n",
    "    print(\"-\"*40)"
   ]
  }
 ],
 "metadata": {
  "kernelspec": {
   "display_name": "Python 3 (ipykernel)",
   "language": "python",
   "name": "python3"
  },
  "language_info": {
   "codemirror_mode": {
    "name": "ipython",
    "version": 3
   },
   "file_extension": ".py",
   "mimetype": "text/x-python",
   "name": "python",
   "nbconvert_exporter": "python",
   "pygments_lexer": "ipython3",
   "version": "3.9.13"
  }
 },
 "nbformat": 4,
 "nbformat_minor": 5
}
